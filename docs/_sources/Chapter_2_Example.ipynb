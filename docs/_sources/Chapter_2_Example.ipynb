{
 "cells": [
  {
   "cell_type": "markdown",
   "id": "9520cab0",
   "metadata": {
    "id": "nY3tu60rA2oz"
   },
   "source": [
    "# Sumerian Networks JupyterBook\n",
    "\n",
    "The goal of the Sumerian Network project has been to build reproducible socio-economic networks from the Ur III archives, and to further refine these models to more accurately reflect the actors and entities active in these unprovenanced archives over the c. 80 year period in the 21st century BCE. Beginning with ca. 15,000 transliterated texts from the site of Drehem (known in antiquity as Puzriš-Dagān), this JupyterBook has a linear progression which applies various tools and methods in NLP and Open Science. In order to make our study reproducible, we used Jupyter Notebooks (hosted in a [GitHub repository]()) to describe the tools and methods we use in connection with the code and dataset, which result in a series of empirical network models. \n",
    "\n",
    "##This book describes a series of steps for building a network from a collection of Sumerian Ur III administrative texts, curated digitally in the following databases:\n",
    "\n",
    "*   [CDLI](https://cdli.ucla.edu/)\n",
    "*   [ORACC](http://oracc.museum.upenn.edu/)\n",
    "*   [BDTNS](http://bdtns.filol.csic.es/)\n",
    "\n",
    "###The book is intended to help you learn how such a network can be built, and does so using `Python` Jupyter Notebooks. These notebooks can be mounted to your GoogleDrive and run in the Google Colaboratory by running the following cell.\n",
    "\n",
    "##Related UC Berkeley DH Projects\n",
    "* [Cuneiform Name Authority](https://digitalhumanities.berkeley.edu/projects/cuneiform-name-authority-ur-iii-period)\n",
    "* [Sumerian Networks](https://digitalhumanities.berkeley.edu/sumerian-networks-reconstructing-ur-iii)\n",
    "\n",
    "##Authors & Developers:\n",
    "[Niek Veldhuis](https://github.com/niekveldhuis), PI (2017-2021)\n",
    "[Adam Anderson](https://github.com/admndrsn) (2017-2021), [Yashila Bordag](https://github.com/ybordag) (2020-2021), [Colman Bouton]( https://github.com/lorentzfactor) (2021), [Jenny Chen](https://github.com/jchen437) (2018), [Tiffany Chien](https://github.com/tiffchien) (2017-2020), [Lucie Choi](https://github.com/dkqntiqn) (2018), [Dalton Do]( https://github.com/daltondo) (2017-2018), [Zekai Fan](https://github.com/babybear68) (2018-2020), [Kimberly Kao](https://github.com/kimkao) (2018), [Jason Kha]() (2017), [Anya Kulikov](https://github.com/akulikov97) (2018-2021), [Dominic Liu](https://github.com/Dominicliu129) (2020-2021), [Harini Rajan](https://github.com/HariniRajan) (2017-2019), [Max Sullivan](https://github.com/maxsully7) (2020), [Aleksi Sahala]( https://github.com/asahala) (2019), [Anjali Unnithan](https://github.com/anjaliu14) (2018-2021)."
   ]
  },
  {
   "cell_type": "code",
   "execution_count": null,
   "id": "c8e2ff25",
   "metadata": {
    "id": "QidRrnhuCAtz"
   },
   "outputs": [],
   "source": [
    "!pip install -U -q PyDrive\n",
    "from pydrive.auth import GoogleAuth\n",
    "from pydrive.drive import GoogleDrive\n",
    "from google.colab import auth\n",
    "from oauth2client.client import GoogleCredentials\n",
    "# Authenticate and create the PyDrive client.\n",
    "#auth.authenticate_user()\n",
    "#gauth = GoogleAuth()\n",
    "#gauth.credentials = GoogleCredentials.get_application_default()\n",
    "#drive = GoogleDrive(gauth)\n",
    "\n",
    "#create necessary directories\n",
    "import os\n",
    "os.makedirs('jsonzip', exist_ok=True)\n",
    "os.makedirs('output', exist_ok=True)"
   ]
  },
  {
   "cell_type": "markdown",
   "id": "f155f5c4",
   "metadata": {
    "id": "OIqS7gp5AQow"
   },
   "source": [
    "# I. Extract Lemmatization from JSON\n",
    "The code in this section will parse the [ORACC](http://oracc.org) JSON data of the Ur III corpus to extract lemmatization data. \n",
    "\n",
    "The output contains text IDs, line IDs, lemmas, and relevant other data. "
   ]
  }
 ],
 "metadata": {
  "kernelspec": {
   "display_name": "Python 3",
   "language": "python",
   "name": "python3"
  },
  "language_info": {
   "codemirror_mode": {
    "name": "ipython",
    "version": 3
   },
   "file_extension": ".py",
   "mimetype": "text/x-python",
   "name": "python",
   "nbconvert_exporter": "python",
   "pygments_lexer": "ipython3",
   "version": "3.7.7"
  }
 },
 "nbformat": 4,
 "nbformat_minor": 5
}
